{
 "cells": [
  {
   "cell_type": "code",
   "execution_count": 144,
   "id": "19e69561",
   "metadata": {},
   "outputs": [],
   "source": [
    "import pandas as pd\n",
    "import numpy as np\n",
    "import random\n",
    "import seaborn as sns\n",
    "from matplotlib import pyplot as plt\n",
    "import warnings\n",
    "warnings.filterwarnings('ignore')"
   ]
  },
  {
   "cell_type": "code",
   "execution_count": 145,
   "id": "299e6285",
   "metadata": {},
   "outputs": [],
   "source": [
    "df=pd.read_csv(\"loan_dataset.csv\")"
   ]
  },
  {
   "cell_type": "code",
   "execution_count": 146,
   "id": "abaf59cc",
   "metadata": {},
   "outputs": [],
   "source": [
    "loan_status=[]\n",
    "for i in range(len(df)):\n",
    "    if df['age'][i]<60:\n",
    "        if df['user_cibil'][i]>=500:\n",
    "            if df['user_itr_based_income'][i]>=350000:\n",
    "                if df['occupation'][i]!='Buisness':\n",
    "                    loan_status.append(\"Approved\")\n",
    "                else:\n",
    "                    if df['user_cibil'][i]>=750:\n",
    "                        loan_status.append(\"Approved\")\n",
    "                    else:\n",
    "                        loan_status.append(\"Not Approved\")\n",
    "            else:\n",
    "                loan_status.append(\"Not Approved\")            \n",
    "        \n",
    "        else:\n",
    "            loan_status.append(\"Not Approved\")\n",
    "    else:\n",
    "        loan_status.append('Not Approved')\n",
    "df['status']=loan_status"
   ]
  },
  {
   "cell_type": "code",
   "execution_count": 147,
   "id": "724edd1c",
   "metadata": {},
   "outputs": [
    {
     "data": {
      "text/plain": [
       "Index(['user_name', 'age', 'loan_need_amount', 'loan_term', 'user_cibil',\n",
       "       'user_itr_based_income', 'loan_type', 'occupation', 'status'],\n",
       "      dtype='object')"
      ]
     },
     "execution_count": 147,
     "metadata": {},
     "output_type": "execute_result"
    }
   ],
   "source": [
    "df.columns"
   ]
  },
  {
   "cell_type": "code",
   "execution_count": 148,
   "id": "f9b6f277",
   "metadata": {},
   "outputs": [
    {
     "data": {
      "text/plain": [
       "(500, 9)"
      ]
     },
     "execution_count": 148,
     "metadata": {},
     "output_type": "execute_result"
    }
   ],
   "source": [
    "df.shape"
   ]
  },
  {
   "cell_type": "code",
   "execution_count": 149,
   "id": "e6960e23",
   "metadata": {},
   "outputs": [
    {
     "data": {
      "text/plain": [
       "Not Approved    252\n",
       "Approved        248\n",
       "Name: status, dtype: int64"
      ]
     },
     "execution_count": 149,
     "metadata": {},
     "output_type": "execute_result"
    }
   ],
   "source": [
    "df.status.value_counts()"
   ]
  },
  {
   "cell_type": "code",
   "execution_count": 150,
   "id": "ab92e5f2",
   "metadata": {},
   "outputs": [
    {
     "data": {
      "text/plain": [
       "user_name                0\n",
       "age                      0\n",
       "loan_need_amount         0\n",
       "loan_term                0\n",
       "user_cibil               0\n",
       "user_itr_based_income    0\n",
       "loan_type                0\n",
       "occupation               0\n",
       "status                   0\n",
       "dtype: int64"
      ]
     },
     "execution_count": 150,
     "metadata": {},
     "output_type": "execute_result"
    }
   ],
   "source": [
    "df.isnull().sum()"
   ]
  },
  {
   "cell_type": "markdown",
   "id": "37f11f41",
   "metadata": {},
   "source": [
    "# Data Visualization"
   ]
  },
  {
   "cell_type": "code",
   "execution_count": 151,
   "id": "79481d04",
   "metadata": {},
   "outputs": [
    {
     "data": {
      "text/plain": [
       "Text(0, 0.5, 'No of people of that age')"
      ]
     },
     "execution_count": 151,
     "metadata": {},
     "output_type": "execute_result"
    },
    {
     "data": {
      "image/png": "[encoded data removed]",
      "text/plain": [
       "<Figure size 864x576 with 1 Axes>"
      ]
     },
     "metadata": {
      "needs_background": "light"
     },
     "output_type": "display_data"
    }
   ],
   "source": [
    "plt.figure(figsize=(12,8))\n",
    "df.age.value_counts().plot.bar()\n",
    "plt.xlabel(\"Age\")\n",
    "plt.ylabel(\"No of people of that age\")"
   ]
  },
  {
   "cell_type": "code",
   "execution_count": 152,
   "id": "cb1f4e08",
   "metadata": {},
   "outputs": [
    {
     "data": {
      "text/plain": [
       "Text(0.5, 0, 'Age')"
      ]
     },
     "execution_count": 152,
     "metadata": {},
     "output_type": "execute_result"
    },
    {
     "data": {
      "image/png": "[encoded data removed]",
      "text/plain": [
       "<Figure size 864x576 with 1 Axes>"
      ]
     },
     "metadata": {
      "needs_background": "light"
     },
     "output_type": "display_data"
    }
   ],
   "source": [
    "f=pd.crosstab(df['age'],df['status'],margins=True)\n",
    "plt.figure(figsize=(12,8))\n",
    "f.iloc[0:47,0].plot(kind='bar')\n",
    "plt.ylabel(\"Loan Approved Count\")\n",
    "plt.xlabel(\"Age\")\n",
    "#From this bar graph you can see that people with age>59 were not approved for loan"
   ]
  },
  {
   "cell_type": "code",
   "execution_count": 153,
   "id": "fe78d227",
   "metadata": {},
   "outputs": [
    {
     "data": {
      "text/plain": [
       "Text(0, 0.5, 'No of people in Dataset')"
      ]
     },
     "execution_count": 153,
     "metadata": {},
     "output_type": "execute_result"
    },
    {
     "data": {
      "image/png": "[encoded data removed]",
      "text/plain": [
       "<Figure size 432x288 with 1 Axes>"
      ]
     },
     "metadata": {
      "needs_background": "light"
     },
     "output_type": "display_data"
    }
   ],
   "source": [
    "df.occupation.value_counts().plot.bar(title='Occupation')\n",
    "plt.ylabel(\"No of people in Dataset\")"
   ]
  },
  {
   "cell_type": "code",
   "execution_count": 154,
   "id": "b1bc5dbd",
   "metadata": {},
   "outputs": [
    {
     "data": {
      "text/plain": [
       "Text(0, 0.5, 'No of people in Dataset')"
      ]
     },
     "execution_count": 154,
     "metadata": {},
     "output_type": "execute_result"
    },
    {
     "data": {
      "image/png": "[encoded data removed]",
      "text/plain": [
       "<Figure size 432x288 with 1 Axes>"
      ]
     },
     "metadata": {
      "needs_background": "light"
     },
     "output_type": "display_data"
    }
   ],
   "source": [
    "df.loan_type.value_counts().plot.bar(title='Loan Type')\n",
    "plt.ylabel(\"No of people in Dataset\")"
   ]
  },
  {
   "cell_type": "code",
   "execution_count": 155,
   "id": "3f3fe146",
   "metadata": {},
   "outputs": [
    {
     "data": {
      "image/png": "[encoded data removed]",
      "text/plain": [
       "<Figure size 288x288 with 1 Axes>"
      ]
     },
     "metadata": {
      "needs_background": "light"
     },
     "output_type": "display_data"
    }
   ],
   "source": [
    "Occupation=pd.crosstab(df['occupation'],df['status'])\n",
    "Occupation.div(Occupation.sum(1).astype(float), axis=0).plot(kind='bar',stacked=True,figsize=(4,4))\n",
    "plt.show()\n",
    "# From this we can see that the peolple with jobs will have higher chance og getting a loan than business men/women"
   ]
  },
  {
   "cell_type": "code",
   "execution_count": 156,
   "id": "2869ec14",
   "metadata": {},
   "outputs": [
    {
     "data": {
      "image/png": "[encoded data removed]",
      "text/plain": [
       "<Figure size 504x432 with 1 Axes>"
      ]
     },
     "metadata": {
      "needs_background": "light"
     },
     "output_type": "display_data"
    }
   ],
   "source": [
    "loan_type=pd.crosstab(df['loan_type'],df['status'])\n",
    "loan_type.div(loan_type.sum(1).astype(float), axis=0).plot(kind='bar',stacked=True,figsize=(7,6))\n",
    "plt.show()"
   ]
  },
  {
   "cell_type": "code",
   "execution_count": 157,
   "id": "59958a7f",
   "metadata": {},
   "outputs": [
    {
     "data": {
      "text/plain": [
       "([<matplotlib.patches.Wedge at 0x21871731940>,\n",
       "  <matplotlib.patches.Wedge at 0x21871731f70>,\n",
       "  <matplotlib.patches.Wedge at 0x218717406d0>],\n",
       " [Text(0.32480944289406144, 1.4848901729780724, 'Business'),\n",
       "  Text(-1.2378327978189745, -0.45844297861746136, 'Car'),\n",
       "  Text(0.7123666153127913, -1.1112757557815243, 'Home')],\n",
       " [Text(0.19659518912008983, 0.8987493152235702, '43.1%'),\n",
       "  Text(-0.6751815260830769, -0.25005980651861526, '25.0%'),\n",
       "  Text(0.3885636083524316, -0.6061504122444676, '31.9%')])"
      ]
     },
     "execution_count": 157,
     "metadata": {},
     "output_type": "execute_result"
    },
    {
     "data": {
      "image/png": "[encoded data removed]",
      "text/plain": [
       "<Figure size 432x288 with 1 Axes>"
      ]
     },
     "metadata": {},
     "output_type": "display_data"
    }
   ],
   "source": [
    "label=['Business','Car','Home']\n",
    "myexplode=[0.2,0,0]\n",
    "temp=df[df['status']=='Approved'].groupby(\"loan_type\").status.count()\n",
    "plt.pie(temp,labels=label,radius=1.2,explode=myexplode,autopct=\"%1.1f%%\")\n"
   ]
  },
  {
   "cell_type": "code",
   "execution_count": 158,
   "id": "a286e7e5",
   "metadata": {},
   "outputs": [
    {
     "data": {
      "text/plain": [
       "([<matplotlib.patches.Wedge at 0x21871782550>,\n",
       "  <matplotlib.patches.Wedge at 0x21871782ca0>],\n",
       " [Text(0.5358737656453687, 1.2063330001674715, 'Business'),\n",
       "  Text(-0.5358737656453694, -1.2063330001674712, 'Job')],\n",
       " [Text(0.29229478126111014, 0.6579998182731662, '36.7%'),\n",
       "  Text(-0.2922947812611105, -0.657999818273166, '63.3%')])"
      ]
     },
     "execution_count": 158,
     "metadata": {},
     "output_type": "execute_result"
    },
    {
     "data": {
      "image/png": "[encoded data removed]",
      "text/plain": [
       "<Figure size 432x288 with 1 Axes>"
      ]
     },
     "metadata": {},
     "output_type": "display_data"
    }
   ],
   "source": [
    "label=['Business','Job']\n",
    "temp=df[df['status']=='Approved'].groupby(\"occupation\").status.count()\n",
    "plt.pie(temp,labels=label,radius=1.2,autopct=\"%1.1f%%\")\n"
   ]
  },
  {
   "cell_type": "markdown",
   "id": "4dd9f35b",
   "metadata": {},
   "source": [
    "# Label Encoding"
   ]
  },
  {
   "cell_type": "code",
   "execution_count": 159,
   "id": "8dce7ae2",
   "metadata": {},
   "outputs": [],
   "source": [
    "from sklearn.preprocessing import LabelEncoder\n",
    "le=LabelEncoder()\n",
    "loan_type_encoded=le.fit_transform(df['loan_type'])\n",
    "occupation_encoded=le.fit_transform(df['occupation'])\n",
    "status_encoded=le.fit_transform(df['status'])\n"
   ]
  },
  {
   "cell_type": "code",
   "execution_count": 160,
   "id": "42843d8f",
   "metadata": {},
   "outputs": [
    {
     "data": {
      "text/html": [
       "<div>\n",
       "<style scoped>\n",
       "    .dataframe tbody tr th:only-of-type {\n",
       "        vertical-align: middle;\n",
       "    }\n",
       "\n",
       "    .dataframe tbody tr th {\n",
       "        vertical-align: top;\n",
       "    }\n",
       "\n",
       "    .dataframe thead th {\n",
       "        text-align: right;\n",
       "    }\n",
       "</style>\n",
       "<table border=\"1\" class=\"dataframe\">\n",
       "  <thead>\n",
       "    <tr style=\"text-align: right;\">\n",
       "      <th></th>\n",
       "      <th>user_name</th>\n",
       "      <th>age</th>\n",
       "      <th>loan_need_amount</th>\n",
       "      <th>loan_term</th>\n",
       "      <th>user_cibil</th>\n",
       "      <th>user_itr_based_income</th>\n",
       "      <th>loan_type</th>\n",
       "      <th>occupation</th>\n",
       "      <th>status</th>\n",
       "    </tr>\n",
       "  </thead>\n",
       "  <tbody>\n",
       "    <tr>\n",
       "      <th>0</th>\n",
       "      <td>Kenna Brennan</td>\n",
       "      <td>41</td>\n",
       "      <td>970000</td>\n",
       "      <td>1</td>\n",
       "      <td>613</td>\n",
       "      <td>9080000</td>\n",
       "      <td>0</td>\n",
       "      <td>1</td>\n",
       "      <td>Approved</td>\n",
       "    </tr>\n",
       "    <tr>\n",
       "      <th>1</th>\n",
       "      <td>Kayden Horne</td>\n",
       "      <td>47</td>\n",
       "      <td>300000</td>\n",
       "      <td>1</td>\n",
       "      <td>854</td>\n",
       "      <td>8340000</td>\n",
       "      <td>1</td>\n",
       "      <td>1</td>\n",
       "      <td>Approved</td>\n",
       "    </tr>\n",
       "    <tr>\n",
       "      <th>2</th>\n",
       "      <td>Ayaan Lamb</td>\n",
       "      <td>24</td>\n",
       "      <td>840000</td>\n",
       "      <td>1</td>\n",
       "      <td>653</td>\n",
       "      <td>450000</td>\n",
       "      <td>2</td>\n",
       "      <td>1</td>\n",
       "      <td>Approved</td>\n",
       "    </tr>\n",
       "    <tr>\n",
       "      <th>3</th>\n",
       "      <td>Jessie Powers</td>\n",
       "      <td>40</td>\n",
       "      <td>430000</td>\n",
       "      <td>12</td>\n",
       "      <td>888</td>\n",
       "      <td>730000</td>\n",
       "      <td>1</td>\n",
       "      <td>0</td>\n",
       "      <td>Approved</td>\n",
       "    </tr>\n",
       "    <tr>\n",
       "      <th>4</th>\n",
       "      <td>Austin Lane</td>\n",
       "      <td>46</td>\n",
       "      <td>470000</td>\n",
       "      <td>11</td>\n",
       "      <td>988</td>\n",
       "      <td>6560000</td>\n",
       "      <td>1</td>\n",
       "      <td>0</td>\n",
       "      <td>Approved</td>\n",
       "    </tr>\n",
       "    <tr>\n",
       "      <th>...</th>\n",
       "      <td>...</td>\n",
       "      <td>...</td>\n",
       "      <td>...</td>\n",
       "      <td>...</td>\n",
       "      <td>...</td>\n",
       "      <td>...</td>\n",
       "      <td>...</td>\n",
       "      <td>...</td>\n",
       "      <td>...</td>\n",
       "    </tr>\n",
       "    <tr>\n",
       "      <th>495</th>\n",
       "      <td>Elisha Santana</td>\n",
       "      <td>57</td>\n",
       "      <td>610000</td>\n",
       "      <td>18</td>\n",
       "      <td>392</td>\n",
       "      <td>9830000</td>\n",
       "      <td>2</td>\n",
       "      <td>0</td>\n",
       "      <td>Not Approved</td>\n",
       "    </tr>\n",
       "    <tr>\n",
       "      <th>496</th>\n",
       "      <td>Raquel Middleton</td>\n",
       "      <td>48</td>\n",
       "      <td>530000</td>\n",
       "      <td>6</td>\n",
       "      <td>548</td>\n",
       "      <td>3120000</td>\n",
       "      <td>2</td>\n",
       "      <td>1</td>\n",
       "      <td>Approved</td>\n",
       "    </tr>\n",
       "    <tr>\n",
       "      <th>497</th>\n",
       "      <td>Tyree King</td>\n",
       "      <td>63</td>\n",
       "      <td>190000</td>\n",
       "      <td>13</td>\n",
       "      <td>357</td>\n",
       "      <td>2080000</td>\n",
       "      <td>1</td>\n",
       "      <td>1</td>\n",
       "      <td>Not Approved</td>\n",
       "    </tr>\n",
       "    <tr>\n",
       "      <th>498</th>\n",
       "      <td>Addyson Barrett</td>\n",
       "      <td>41</td>\n",
       "      <td>660000</td>\n",
       "      <td>7</td>\n",
       "      <td>835</td>\n",
       "      <td>8500000</td>\n",
       "      <td>1</td>\n",
       "      <td>1</td>\n",
       "      <td>Approved</td>\n",
       "    </tr>\n",
       "    <tr>\n",
       "      <th>499</th>\n",
       "      <td>Simone Delacruz</td>\n",
       "      <td>23</td>\n",
       "      <td>590000</td>\n",
       "      <td>14</td>\n",
       "      <td>389</td>\n",
       "      <td>7250000</td>\n",
       "      <td>1</td>\n",
       "      <td>0</td>\n",
       "      <td>Not Approved</td>\n",
       "    </tr>\n",
       "  </tbody>\n",
       "</table>\n",
       "<p>500 rows × 9 columns</p>\n",
       "</div>"
      ],
      "text/plain": [
       "            user_name  age  loan_need_amount  loan_term  user_cibil  \\\n",
       "0       Kenna Brennan   41            970000          1         613   \n",
       "1        Kayden Horne   47            300000          1         854   \n",
       "2          Ayaan Lamb   24            840000          1         653   \n",
       "3       Jessie Powers   40            430000         12         888   \n",
       "4         Austin Lane   46            470000         11         988   \n",
       "..                ...  ...               ...        ...         ...   \n",
       "495    Elisha Santana   57            610000         18         392   \n",
       "496  Raquel Middleton   48            530000          6         548   \n",
       "497        Tyree King   63            190000         13         357   \n",
       "498   Addyson Barrett   41            660000          7         835   \n",
       "499   Simone Delacruz   23            590000         14         389   \n",
       "\n",
       "     user_itr_based_income  loan_type  occupation        status  \n",
       "0                  9080000          0           1      Approved  \n",
       "1                  8340000          1           1      Approved  \n",
       "2                   450000          2           1      Approved  \n",
       "3                   730000          1           0      Approved  \n",
       "4                  6560000          1           0      Approved  \n",
       "..                     ...        ...         ...           ...  \n",
       "495                9830000          2           0  Not Approved  \n",
       "496                3120000          2           1      Approved  \n",
       "497                2080000          1           1  Not Approved  \n",
       "498                8500000          1           1      Approved  \n",
       "499                7250000          1           0  Not Approved  \n",
       "\n",
       "[500 rows x 9 columns]"
      ]
     },
     "execution_count": 160,
     "metadata": {},
     "output_type": "execute_result"
    }
   ],
   "source": [
    "df['loan_type']=loan_type_encoded\n",
    "df['occupation']=occupation_encoded\n",
    "df"
   ]
  },
  {
   "cell_type": "code",
   "execution_count": 161,
   "id": "4cce788d",
   "metadata": {},
   "outputs": [],
   "source": [
    "features=df.iloc[:,1:8]\n",
    "label=df.status"
   ]
  },
  {
   "cell_type": "code",
   "execution_count": 171,
   "id": "776e2c17",
   "metadata": {},
   "outputs": [
    {
     "data": {
      "text/html": [
       "<div>\n",
       "<style scoped>\n",
       "    .dataframe tbody tr th:only-of-type {\n",
       "        vertical-align: middle;\n",
       "    }\n",
       "\n",
       "    .dataframe tbody tr th {\n",
       "        vertical-align: top;\n",
       "    }\n",
       "\n",
       "    .dataframe thead th {\n",
       "        text-align: right;\n",
       "    }\n",
       "</style>\n",
       "<table border=\"1\" class=\"dataframe\">\n",
       "  <thead>\n",
       "    <tr style=\"text-align: right;\">\n",
       "      <th></th>\n",
       "      <th>age</th>\n",
       "      <th>loan_need_amount</th>\n",
       "      <th>loan_term</th>\n",
       "      <th>user_cibil</th>\n",
       "      <th>user_itr_based_income</th>\n",
       "      <th>loan_type</th>\n",
       "      <th>occupation</th>\n",
       "    </tr>\n",
       "  </thead>\n",
       "  <tbody>\n",
       "    <tr>\n",
       "      <th>329</th>\n",
       "      <td>38</td>\n",
       "      <td>990000</td>\n",
       "      <td>19</td>\n",
       "      <td>487</td>\n",
       "      <td>7220000</td>\n",
       "      <td>1</td>\n",
       "      <td>1</td>\n",
       "    </tr>\n",
       "    <tr>\n",
       "      <th>114</th>\n",
       "      <td>20</td>\n",
       "      <td>960000</td>\n",
       "      <td>6</td>\n",
       "      <td>724</td>\n",
       "      <td>4610000</td>\n",
       "      <td>2</td>\n",
       "      <td>1</td>\n",
       "    </tr>\n",
       "    <tr>\n",
       "      <th>305</th>\n",
       "      <td>49</td>\n",
       "      <td>500000</td>\n",
       "      <td>12</td>\n",
       "      <td>324</td>\n",
       "      <td>5860000</td>\n",
       "      <td>1</td>\n",
       "      <td>1</td>\n",
       "    </tr>\n",
       "    <tr>\n",
       "      <th>495</th>\n",
       "      <td>57</td>\n",
       "      <td>610000</td>\n",
       "      <td>18</td>\n",
       "      <td>392</td>\n",
       "      <td>9830000</td>\n",
       "      <td>2</td>\n",
       "      <td>0</td>\n",
       "    </tr>\n",
       "    <tr>\n",
       "      <th>89</th>\n",
       "      <td>38</td>\n",
       "      <td>140000</td>\n",
       "      <td>13</td>\n",
       "      <td>428</td>\n",
       "      <td>1730000</td>\n",
       "      <td>2</td>\n",
       "      <td>1</td>\n",
       "    </tr>\n",
       "    <tr>\n",
       "      <th>...</th>\n",
       "      <td>...</td>\n",
       "      <td>...</td>\n",
       "      <td>...</td>\n",
       "      <td>...</td>\n",
       "      <td>...</td>\n",
       "      <td>...</td>\n",
       "      <td>...</td>\n",
       "    </tr>\n",
       "    <tr>\n",
       "      <th>272</th>\n",
       "      <td>30</td>\n",
       "      <td>980000</td>\n",
       "      <td>8</td>\n",
       "      <td>313</td>\n",
       "      <td>6770000</td>\n",
       "      <td>1</td>\n",
       "      <td>0</td>\n",
       "    </tr>\n",
       "    <tr>\n",
       "      <th>104</th>\n",
       "      <td>53</td>\n",
       "      <td>590000</td>\n",
       "      <td>17</td>\n",
       "      <td>887</td>\n",
       "      <td>1100000</td>\n",
       "      <td>1</td>\n",
       "      <td>0</td>\n",
       "    </tr>\n",
       "    <tr>\n",
       "      <th>487</th>\n",
       "      <td>21</td>\n",
       "      <td>650000</td>\n",
       "      <td>2</td>\n",
       "      <td>325</td>\n",
       "      <td>490000</td>\n",
       "      <td>1</td>\n",
       "      <td>0</td>\n",
       "    </tr>\n",
       "    <tr>\n",
       "      <th>202</th>\n",
       "      <td>25</td>\n",
       "      <td>350000</td>\n",
       "      <td>3</td>\n",
       "      <td>672</td>\n",
       "      <td>1180000</td>\n",
       "      <td>2</td>\n",
       "      <td>1</td>\n",
       "    </tr>\n",
       "    <tr>\n",
       "      <th>153</th>\n",
       "      <td>42</td>\n",
       "      <td>250000</td>\n",
       "      <td>8</td>\n",
       "      <td>818</td>\n",
       "      <td>4570000</td>\n",
       "      <td>1</td>\n",
       "      <td>1</td>\n",
       "    </tr>\n",
       "  </tbody>\n",
       "</table>\n",
       "<p>400 rows × 7 columns</p>\n",
       "</div>"
      ],
      "text/plain": [
       "     age  loan_need_amount  loan_term  user_cibil  user_itr_based_income  \\\n",
       "329   38            990000         19         487                7220000   \n",
       "114   20            960000          6         724                4610000   \n",
       "305   49            500000         12         324                5860000   \n",
       "495   57            610000         18         392                9830000   \n",
       "89    38            140000         13         428                1730000   \n",
       "..   ...               ...        ...         ...                    ...   \n",
       "272   30            980000          8         313                6770000   \n",
       "104   53            590000         17         887                1100000   \n",
       "487   21            650000          2         325                 490000   \n",
       "202   25            350000          3         672                1180000   \n",
       "153   42            250000          8         818                4570000   \n",
       "\n",
       "     loan_type  occupation  \n",
       "329          1           1  \n",
       "114          2           1  \n",
       "305          1           1  \n",
       "495          2           0  \n",
       "89           2           1  \n",
       "..         ...         ...  \n",
       "272          1           0  \n",
       "104          1           0  \n",
       "487          1           0  \n",
       "202          2           1  \n",
       "153          1           1  \n",
       "\n",
       "[400 rows x 7 columns]"
      ]
     },
     "execution_count": 171,
     "metadata": {},
     "output_type": "execute_result"
    }
   ],
   "source": [
    "from sklearn.model_selection import train_test_split\n",
    "x_train,x_test,y_train,y_test,=train_test_split(features,label,test_size=0.2)\n",
    "x_train"
   ]
  },
  {
   "cell_type": "markdown",
   "id": "0598ec8f",
   "metadata": {},
   "source": [
    "# Scaling The Data for Greater Accuracy By Standard Scalar Method"
   ]
  },
  {
   "cell_type": "code",
   "execution_count": 172,
   "id": "5f6fea95",
   "metadata": {},
   "outputs": [],
   "source": [
    "from sklearn.preprocessing import StandardScaler\n",
    "st_x=StandardScaler()\n",
    "x_train=st_x.fit_transform(x_train)\n",
    "x_test=st_x.fit_transform(x_test)"
   ]
  },
  {
   "cell_type": "code",
   "execution_count": 188,
   "id": "6cae4315",
   "metadata": {},
   "outputs": [
    {
     "data": {
      "text/plain": [
       "KNeighborsClassifier(n_neighbors=23)"
      ]
     },
     "execution_count": 188,
     "metadata": {},
     "output_type": "execute_result"
    }
   ],
   "source": [
    "from sklearn.neighbors import KNeighborsClassifier\n",
    "knn=KNeighborsClassifier(n_neighbors=23)\n",
    "knn.fit(x_train,y_train)"
   ]
  },
  {
   "cell_type": "code",
   "execution_count": 189,
   "id": "c0e76fb7",
   "metadata": {},
   "outputs": [],
   "source": [
    "y_pred=knn.predict(x_test)"
   ]
  },
  {
   "cell_type": "code",
   "execution_count": 190,
   "id": "ce5c812f",
   "metadata": {},
   "outputs": [
    {
     "name": "stdout",
     "output_type": "stream",
     "text": [
      "Accuracy: 91.0\n"
     ]
    }
   ],
   "source": [
    "from sklearn import metrics\n",
    "print(\"Accuracy:\",metrics.accuracy_score(y_test,y_pred)*100)"
   ]
  },
  {
   "cell_type": "code",
   "execution_count": 191,
   "id": "1aca3d40",
   "metadata": {},
   "outputs": [
    {
     "name": "stdout",
     "output_type": "stream",
     "text": [
      "              precision    recall  f1-score   support\n",
      "\n",
      "    Approved       0.88      0.94      0.91        49\n",
      "Not Approved       0.94      0.88      0.91        51\n",
      "\n",
      "    accuracy                           0.91       100\n",
      "   macro avg       0.91      0.91      0.91       100\n",
      "weighted avg       0.91      0.91      0.91       100\n",
      "\n",
      "Confusion Matrix: [[46  3]\n",
      " [ 6 45]]\n"
     ]
    }
   ],
   "source": [
    "from sklearn.metrics import classification_report,confusion_matrix\n",
    "print(classification_report(y_test,y_pred))\n",
    "print(\"Confusion Matrix:\",confusion_matrix(y_test,y_pred))\n"
   ]
  },
  {
   "cell_type": "code",
   "execution_count": 192,
   "id": "126c7d0c",
   "metadata": {},
   "outputs": [],
   "source": [
    "error_rate = []\n",
    "# Will take some time\n",
    "for i in range(1,50):\n",
    " \n",
    "    knn = KNeighborsClassifier(n_neighbors=i)\n",
    "    knn.fit(x_train,y_train)\n",
    "    pred_i = knn.predict(x_test)\n",
    "    error_rate.append(np.mean(pred_i != y_test))"
   ]
  },
  {
   "cell_type": "code",
   "execution_count": 193,
   "id": "d72c6f4a",
   "metadata": {},
   "outputs": [
    {
     "data": {
      "text/plain": [
       "Text(0, 0.5, 'Error Rate')"
      ]
     },
     "execution_count": 193,
     "metadata": {},
     "output_type": "execute_result"
    },
    {
     "data": {
      "image/png": "[encoded data removed]",
      "text/plain": [
       "<Figure size 720x432 with 1 Axes>"
      ]
     },
     "metadata": {
      "needs_background": "light"
     },
     "output_type": "display_data"
    }
   ],
   "source": [
    "plt.figure(figsize=(10,6))\n",
    "plt.plot(range(1,50),error_rate,color='blue', linestyle='dashed', marker='o',\n",
    " markerfacecolor='red', markersize=10)\n",
    "plt.title('Error Rate vs. K Value')\n",
    "plt.xlabel('K')\n",
    "plt.ylabel('Error Rate')"
   ]
  },
  {
   "cell_type": "code",
   "execution_count": 199,
   "id": "e63abc82",
   "metadata": {},
   "outputs": [
    {
     "name": "stdout",
     "output_type": "stream",
     "text": [
      "***ENTER YOUR DETAILS***\n",
      "Enter age:30\n",
      "Enter Loan Need Amount:200000\n",
      "Enter Loan Term:6\n",
      "Enter Cibil Score:780\n",
      "Enter Income:900000\n",
      "Enter Loan Type (0 for Buisness,1 for Car,2 for Home):1\n",
      "Enter Occupation (1 for Job,0 for Buisness):1\n",
      "Your Loan status is: Approved\n"
     ]
    }
   ],
   "source": [
    "print(\"***ENTER YOUR DETAILS***\")\n",
    "\n",
    "\n",
    "age=int(input(\"Enter age:\"))\n",
    "loan_need_amount=int(input(\"Enter Loan Need Amount:\"))\n",
    "loan_term=int(input(\"Enter Loan Term:\"))\n",
    "user_cibil=int(input(\"Enter Cibil Score:\"))\n",
    "income=int(input(\"Enter Income:\"))\n",
    "loan_type=int(input(\"Enter Loan Type (0 for Buisness,1 for Car,2 for Home):\"))\n",
    "occupation=int(input(\"Enter Occupation (1 for Job,0 for Buisness):\"))\n",
    "test_data={'age':age,'loan_need_amount':loan_need_amount,'loan_term':loan_term,'user_cibil':user_cibil,'income':income,'loan_type':loan_type,'occupation':occupation}\n",
    "df2=pd.DataFrame(test_data,index=[0])\n",
    "\n",
    "pred_test =knn.predict(df2)\n",
    "print(\"Your Loan status is:\",pred_test[0])"
   ]
  },
  {
   "cell_type": "code",
   "execution_count": null,
   "id": "712fc4fb",
   "metadata": {},
   "outputs": [],
   "source": []
  }
 ],
 "metadata": {
  "kernelspec": {
   "display_name": "Python 3 (ipykernel)",
   "language": "python",
   "name": "python3"
  },
  "language_info": {
   "codemirror_mode": {
    "name": "ipython",
    "version": 3
   },
   "file_extension": ".py",
   "mimetype": "text/x-python",
   "name": "python",
   "nbconvert_exporter": "python",
   "pygments_lexer": "ipython3",
   "version": "3.9.12"
  }
 },
 "nbformat": 4,
 "nbformat_minor": 5
}
