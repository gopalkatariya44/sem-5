{
 "cells": [
  {
   "cell_type": "markdown",
   "id": "a62db5f6",
   "metadata": {},
   "source": [
    "###### import"
   ]
  },
  {
   "cell_type": "code",
   "execution_count": 1,
   "id": "07c48d9d",
   "metadata": {
    "scrolled": true
   },
   "outputs": [],
   "source": [
    "import pandas as pd"
   ]
  },
  {
   "cell_type": "code",
   "execution_count": 2,
   "id": "a738a7e2",
   "metadata": {},
   "outputs": [],
   "source": [
    "url = \"boston.xls\"\n",
    "df = pd.read_excel(url)"
   ]
  },
  {
   "cell_type": "code",
   "execution_count": 3,
   "id": "2e49a56d",
   "metadata": {},
   "outputs": [],
   "source": [
    "df_copy = df.copy()"
   ]
  },
  {
   "cell_type": "code",
   "execution_count": 27,
   "id": "181434d7",
   "metadata": {
    "scrolled": false
   },
   "outputs": [
    {
     "data": {
      "text/html": [
       "<div>\n",
       "<style scoped>\n",
       "    .dataframe tbody tr th:only-of-type {\n",
       "        vertical-align: middle;\n",
       "    }\n",
       "\n",
       "    .dataframe tbody tr th {\n",
       "        vertical-align: top;\n",
       "    }\n",
       "\n",
       "    .dataframe thead th {\n",
       "        text-align: right;\n",
       "    }\n",
       "</style>\n",
       "<table border=\"1\" class=\"dataframe\">\n",
       "  <thead>\n",
       "    <tr style=\"text-align: right;\">\n",
       "      <th></th>\n",
       "      <th>CRIM</th>\n",
       "      <th>ZN</th>\n",
       "      <th>CHAS</th>\n",
       "      <th>RM</th>\n",
       "      <th>AGE</th>\n",
       "      <th>DIS</th>\n",
       "      <th>RAD</th>\n",
       "      <th>TAX</th>\n",
       "      <th>PT</th>\n",
       "      <th>B</th>\n",
       "      <th>LSTAT</th>\n",
       "      <th>MV</th>\n",
       "    </tr>\n",
       "  </thead>\n",
       "  <tbody>\n",
       "    <tr>\n",
       "      <th>count</th>\n",
       "      <td>506.000000</td>\n",
       "      <td>506.000000</td>\n",
       "      <td>506.000000</td>\n",
       "      <td>506.000000</td>\n",
       "      <td>506.000000</td>\n",
       "      <td>506.000000</td>\n",
       "      <td>506.000000</td>\n",
       "      <td>506.000000</td>\n",
       "      <td>506.000000</td>\n",
       "      <td>506.000000</td>\n",
       "      <td>506.000000</td>\n",
       "      <td>506.000000</td>\n",
       "    </tr>\n",
       "    <tr>\n",
       "      <th>mean</th>\n",
       "      <td>3.613524</td>\n",
       "      <td>11.363636</td>\n",
       "      <td>0.069170</td>\n",
       "      <td>6.284634</td>\n",
       "      <td>68.574901</td>\n",
       "      <td>3.795043</td>\n",
       "      <td>9.549407</td>\n",
       "      <td>408.237154</td>\n",
       "      <td>18.455534</td>\n",
       "      <td>356.674030</td>\n",
       "      <td>12.653063</td>\n",
       "      <td>22.532806</td>\n",
       "    </tr>\n",
       "    <tr>\n",
       "      <th>std</th>\n",
       "      <td>8.601545</td>\n",
       "      <td>23.322453</td>\n",
       "      <td>0.253994</td>\n",
       "      <td>0.702617</td>\n",
       "      <td>28.148862</td>\n",
       "      <td>2.105710</td>\n",
       "      <td>8.707259</td>\n",
       "      <td>168.537116</td>\n",
       "      <td>2.164946</td>\n",
       "      <td>91.294863</td>\n",
       "      <td>7.141062</td>\n",
       "      <td>9.197104</td>\n",
       "    </tr>\n",
       "    <tr>\n",
       "      <th>min</th>\n",
       "      <td>0.006320</td>\n",
       "      <td>0.000000</td>\n",
       "      <td>0.000000</td>\n",
       "      <td>3.561000</td>\n",
       "      <td>2.900000</td>\n",
       "      <td>1.129600</td>\n",
       "      <td>1.000000</td>\n",
       "      <td>187.000000</td>\n",
       "      <td>12.600000</td>\n",
       "      <td>0.320000</td>\n",
       "      <td>1.730000</td>\n",
       "      <td>5.000000</td>\n",
       "    </tr>\n",
       "    <tr>\n",
       "      <th>25%</th>\n",
       "      <td>0.082045</td>\n",
       "      <td>0.000000</td>\n",
       "      <td>0.000000</td>\n",
       "      <td>5.885500</td>\n",
       "      <td>45.025000</td>\n",
       "      <td>2.100175</td>\n",
       "      <td>4.000000</td>\n",
       "      <td>279.000000</td>\n",
       "      <td>17.400000</td>\n",
       "      <td>375.377487</td>\n",
       "      <td>6.950000</td>\n",
       "      <td>17.025000</td>\n",
       "    </tr>\n",
       "    <tr>\n",
       "      <th>50%</th>\n",
       "      <td>0.256510</td>\n",
       "      <td>0.000000</td>\n",
       "      <td>0.000000</td>\n",
       "      <td>6.208500</td>\n",
       "      <td>77.500000</td>\n",
       "      <td>3.207450</td>\n",
       "      <td>5.000000</td>\n",
       "      <td>330.000000</td>\n",
       "      <td>19.050000</td>\n",
       "      <td>391.440002</td>\n",
       "      <td>11.360000</td>\n",
       "      <td>21.200001</td>\n",
       "    </tr>\n",
       "    <tr>\n",
       "      <th>75%</th>\n",
       "      <td>3.677083</td>\n",
       "      <td>12.500000</td>\n",
       "      <td>0.000000</td>\n",
       "      <td>6.623500</td>\n",
       "      <td>94.074999</td>\n",
       "      <td>5.188425</td>\n",
       "      <td>24.000000</td>\n",
       "      <td>666.000000</td>\n",
       "      <td>20.200001</td>\n",
       "      <td>396.225006</td>\n",
       "      <td>16.954999</td>\n",
       "      <td>25.000000</td>\n",
       "    </tr>\n",
       "    <tr>\n",
       "      <th>max</th>\n",
       "      <td>88.976196</td>\n",
       "      <td>100.000000</td>\n",
       "      <td>1.000000</td>\n",
       "      <td>8.780000</td>\n",
       "      <td>100.000000</td>\n",
       "      <td>12.126500</td>\n",
       "      <td>24.000000</td>\n",
       "      <td>711.000000</td>\n",
       "      <td>22.000000</td>\n",
       "      <td>396.899994</td>\n",
       "      <td>37.970001</td>\n",
       "      <td>50.000000</td>\n",
       "    </tr>\n",
       "  </tbody>\n",
       "</table>\n",
       "</div>"
      ],
      "text/plain": [
       "             CRIM          ZN        CHAS          RM         AGE         DIS  \\\n",
       "count  506.000000  506.000000  506.000000  506.000000  506.000000  506.000000   \n",
       "mean     3.613524   11.363636    0.069170    6.284634   68.574901    3.795043   \n",
       "std      8.601545   23.322453    0.253994    0.702617   28.148862    2.105710   \n",
       "min      0.006320    0.000000    0.000000    3.561000    2.900000    1.129600   \n",
       "25%      0.082045    0.000000    0.000000    5.885500   45.025000    2.100175   \n",
       "50%      0.256510    0.000000    0.000000    6.208500   77.500000    3.207450   \n",
       "75%      3.677083   12.500000    0.000000    6.623500   94.074999    5.188425   \n",
       "max     88.976196  100.000000    1.000000    8.780000  100.000000   12.126500   \n",
       "\n",
       "              RAD         TAX          PT           B       LSTAT          MV  \n",
       "count  506.000000  506.000000  506.000000  506.000000  506.000000  506.000000  \n",
       "mean     9.549407  408.237154   18.455534  356.674030   12.653063   22.532806  \n",
       "std      8.707259  168.537116    2.164946   91.294863    7.141062    9.197104  \n",
       "min      1.000000  187.000000   12.600000    0.320000    1.730000    5.000000  \n",
       "25%      4.000000  279.000000   17.400000  375.377487    6.950000   17.025000  \n",
       "50%      5.000000  330.000000   19.050000  391.440002   11.360000   21.200001  \n",
       "75%     24.000000  666.000000   20.200001  396.225006   16.954999   25.000000  \n",
       "max     24.000000  711.000000   22.000000  396.899994   37.970001   50.000000  "
      ]
     },
     "execution_count": 27,
     "metadata": {},
     "output_type": "execute_result"
    }
   ],
   "source": [
    "#df.info()\n",
    "df.describe()"
   ]
  },
  {
   "cell_type": "code",
   "execution_count": 5,
   "id": "e38e4dd6",
   "metadata": {
    "scrolled": false
   },
   "outputs": [],
   "source": [
    "df = df.drop(['INDUS','NOX'],axis=1)"
   ]
  },
  {
   "cell_type": "code",
   "execution_count": 6,
   "id": "dc61a4a0",
   "metadata": {},
   "outputs": [
    {
     "name": "stdout",
     "output_type": "stream",
     "text": [
      "<class 'pandas.core.frame.DataFrame'>\n",
      "RangeIndex: 506 entries, 0 to 505\n",
      "Data columns (total 12 columns):\n",
      " #   Column  Non-Null Count  Dtype  \n",
      "---  ------  --------------  -----  \n",
      " 0   CRIM    506 non-null    float64\n",
      " 1   ZN      506 non-null    float64\n",
      " 2   CHAS    506 non-null    int64  \n",
      " 3   RM      506 non-null    float64\n",
      " 4   AGE     506 non-null    float64\n",
      " 5   DIS     506 non-null    float64\n",
      " 6   RAD     506 non-null    int64  \n",
      " 7   TAX     506 non-null    int64  \n",
      " 8   PT      506 non-null    float64\n",
      " 9   B       506 non-null    float64\n",
      " 10  LSTAT   506 non-null    float64\n",
      " 11  MV      506 non-null    float64\n",
      "dtypes: float64(9), int64(3)\n",
      "memory usage: 47.6 KB\n"
     ]
    }
   ],
   "source": [
    "df.info()"
   ]
  },
  {
   "cell_type": "markdown",
   "id": "46aff2f4",
   "metadata": {},
   "source": [
    "###### import"
   ]
  },
  {
   "cell_type": "code",
   "execution_count": 7,
   "id": "4d848e8f",
   "metadata": {},
   "outputs": [],
   "source": [
    "from sklearn.preprocessing import StandardScaler"
   ]
  },
  {
   "cell_type": "code",
   "execution_count": 8,
   "id": "183a017b",
   "metadata": {},
   "outputs": [],
   "source": [
    "ss = StandardScaler()"
   ]
  },
  {
   "cell_type": "code",
   "execution_count": 9,
   "id": "c9886591",
   "metadata": {},
   "outputs": [],
   "source": [
    "x = ss.fit_transform(df.iloc[0:,:11])\n",
    "# x = df.iloc[0:,:11]"
   ]
  },
  {
   "cell_type": "code",
   "execution_count": 10,
   "id": "af299106",
   "metadata": {},
   "outputs": [],
   "source": [
    "# y = ss.fit_transform(df[['MV']])\n",
    "y = df[['MV']]"
   ]
  },
  {
   "cell_type": "markdown",
   "id": "0b7e3827",
   "metadata": {},
   "source": [
    "###### import"
   ]
  },
  {
   "cell_type": "code",
   "execution_count": 11,
   "id": "09cd1ec9",
   "metadata": {},
   "outputs": [],
   "source": [
    "from sklearn.model_selection import train_test_split as tts"
   ]
  },
  {
   "cell_type": "markdown",
   "id": "572d36f5",
   "metadata": {},
   "source": [
    "###### split data into 70-30"
   ]
  },
  {
   "cell_type": "code",
   "execution_count": 12,
   "id": "896e1d6d",
   "metadata": {},
   "outputs": [],
   "source": [
    "x_train, x_test, y_train, y_test = tts(x,y, test_size=.30, random_state=40)"
   ]
  },
  {
   "cell_type": "code",
   "execution_count": 13,
   "id": "d3d0625f",
   "metadata": {
    "scrolled": true
   },
   "outputs": [
    {
     "data": {
      "text/plain": [
       "array([[-0.40254357,  0.58526684, -0.27259857, ...,  0.57539476,\n",
       "         0.37285357, -0.81203557],\n",
       "       [ 5.53032087, -0.48772236, -0.27259857, ...,  0.80657598,\n",
       "        -3.88219459, -0.35647084],\n",
       "       [ 0.24376194, -0.48772236, -0.27259857, ...,  0.80657598,\n",
       "         0.39905855, -0.68868269],\n",
       "       ...,\n",
       "       [-0.40369567,  0.04877224, -0.27259857, ..., -1.50523665,\n",
       "         0.44105189,  0.91070015],\n",
       "       [-0.40722178, -0.48772236,  3.66839786, ..., -0.95040181,\n",
       "         0.40640448, -0.30180302],\n",
       "       [-0.38520164, -0.48772236, -0.27259857, ...,  0.52915835,\n",
       "         0.44105189, -0.91155897]])"
      ]
     },
     "execution_count": 13,
     "metadata": {},
     "output_type": "execute_result"
    }
   ],
   "source": [
    "# print(len(x_train), len(x_test), len(y_train), len(y_test))\n",
    "x_train"
   ]
  },
  {
   "cell_type": "markdown",
   "id": "5406e7d8",
   "metadata": {},
   "source": [
    "###### import"
   ]
  },
  {
   "cell_type": "code",
   "execution_count": 14,
   "id": "1735eaad",
   "metadata": {},
   "outputs": [],
   "source": [
    "from sklearn.linear_model import LinearRegression"
   ]
  },
  {
   "cell_type": "code",
   "execution_count": 15,
   "id": "fd05b617",
   "metadata": {},
   "outputs": [],
   "source": [
    "model = LinearRegression()"
   ]
  },
  {
   "cell_type": "code",
   "execution_count": 16,
   "id": "cfb6c58a",
   "metadata": {},
   "outputs": [
    {
     "data": {
      "text/plain": [
       "LinearRegression()"
      ]
     },
     "execution_count": 16,
     "metadata": {},
     "output_type": "execute_result"
    }
   ],
   "source": [
    "# fit the model using train data\n",
    "model.fit(x_train, y_train)"
   ]
  },
  {
   "cell_type": "code",
   "execution_count": 17,
   "id": "acce79af",
   "metadata": {},
   "outputs": [],
   "source": [
    "# predict the all test data\n",
    "y_pred = model.predict(x_test)"
   ]
  },
  {
   "cell_type": "code",
   "execution_count": 44,
   "id": "d273eda3",
   "metadata": {},
   "outputs": [],
   "source": [
    "# d = {'y_true': [y_test], 'y_pred': [y_pred]}\n",
    "# pd.DataFrame(data=d)"
   ]
  },
  {
   "cell_type": "markdown",
   "id": "ac008e12",
   "metadata": {},
   "source": [
    "###### import"
   ]
  },
  {
   "cell_type": "code",
   "execution_count": 18,
   "id": "83946cb4",
   "metadata": {},
   "outputs": [],
   "source": [
    "from sklearn.metrics import r2_score"
   ]
  },
  {
   "cell_type": "code",
   "execution_count": 19,
   "id": "00904dfe",
   "metadata": {},
   "outputs": [
    {
     "data": {
      "text/plain": [
       "0.7176815171659034"
      ]
     },
     "execution_count": 19,
     "metadata": {},
     "output_type": "execute_result"
    }
   ],
   "source": [
    "r2_score(y_test,y_pred)"
   ]
  },
  {
   "cell_type": "markdown",
   "id": "c8b324d8",
   "metadata": {},
   "source": [
    "###### import"
   ]
  },
  {
   "cell_type": "code",
   "execution_count": 20,
   "id": "02d07cb6",
   "metadata": {},
   "outputs": [],
   "source": [
    "from sklearn.linear_model import Lasso, Ridge"
   ]
  },
  {
   "cell_type": "markdown",
   "id": "e1a4770b",
   "metadata": {},
   "source": [
    "###### lasso"
   ]
  },
  {
   "cell_type": "code",
   "execution_count": 21,
   "id": "b8d60784",
   "metadata": {},
   "outputs": [
    {
     "data": {
      "text/plain": [
       "0.717049499954657"
      ]
     },
     "execution_count": 21,
     "metadata": {},
     "output_type": "execute_result"
    }
   ],
   "source": [
    "lasso = Lasso(alpha=.005)\n",
    "lasso.fit(x_train, y_train)\n",
    "l_pre = lasso.predict(x_test)\n",
    "r2_score(y_test, l_pre)"
   ]
  },
  {
   "cell_type": "markdown",
   "id": "a6d17df8",
   "metadata": {},
   "source": [
    "###### ridge"
   ]
  },
  {
   "cell_type": "code",
   "execution_count": 22,
   "id": "b1f6842b",
   "metadata": {},
   "outputs": [
    {
     "data": {
      "text/plain": [
       "0.7176785604825532"
      ]
     },
     "execution_count": 22,
     "metadata": {},
     "output_type": "execute_result"
    }
   ],
   "source": [
    "ridge = Ridge(alpha=.005)\n",
    "ridge.fit(x_train, y_train)\n",
    "r_pre = ridge.predict(x_test)\n",
    "r2_score(y_test, r_pre)"
   ]
  },
  {
   "cell_type": "markdown",
   "id": "4105d10c",
   "metadata": {},
   "source": [
    "###### prediction line"
   ]
  },
  {
   "cell_type": "markdown",
   "id": "827ce9d5",
   "metadata": {},
   "source": [
    "###### impors"
   ]
  },
  {
   "cell_type": "code",
   "execution_count": 23,
   "id": "96ebbed2",
   "metadata": {},
   "outputs": [],
   "source": [
    "import matplotlib.pyplot as plt \n",
    "import seaborn as sns"
   ]
  },
  {
   "cell_type": "code",
   "execution_count": 24,
   "id": "e96fff06",
   "metadata": {},
   "outputs": [
    {
     "name": "stderr",
     "output_type": "stream",
     "text": [
      "/opt/anaconda3/lib/python3.9/site-packages/seaborn/_decorators.py:36: FutureWarning: Pass the following variables as keyword args: x, y. From version 0.12, the only valid positional argument will be `data`, and passing other arguments without an explicit keyword will result in an error or misinterpretation.\n",
      "  warnings.warn(\n"
     ]
    },
    {
     "data": {
      "text/plain": [
       "<AxesSubplot:xlabel='MV'>"
      ]
     },
     "execution_count": 24,
     "metadata": {},
     "output_type": "execute_result"
    },
    {
     "data": {
      "image/png": "[encoded data removed]",
      "text/plain": [
       "<Figure size 432x288 with 1 Axes>"
      ]
     },
     "metadata": {
      "needs_background": "light"
     },
     "output_type": "display_data"
    }
   ],
   "source": [
    "# print(len(x_test),len(y_test),len)\n",
    "sns.regplot(y_test ,y_pred)"
   ]
  },
  {
   "cell_type": "code",
   "execution_count": 25,
   "id": "9ec07037",
   "metadata": {},
   "outputs": [
    {
     "data": {
      "text/plain": [
       "[<matplotlib.lines.Line2D at 0x14eb53c70>,\n",
       " <matplotlib.lines.Line2D at 0x14eb53d90>,\n",
       " <matplotlib.lines.Line2D at 0x14eb53eb0>,\n",
       " <matplotlib.lines.Line2D at 0x14eb53fd0>,\n",
       " <matplotlib.lines.Line2D at 0x14eb62130>,\n",
       " <matplotlib.lines.Line2D at 0x14eb62250>,\n",
       " <matplotlib.lines.Line2D at 0x14eb62370>,\n",
       " <matplotlib.lines.Line2D at 0x14eb62490>,\n",
       " <matplotlib.lines.Line2D at 0x14eb625b0>,\n",
       " <matplotlib.lines.Line2D at 0x14eb626d0>,\n",
       " <matplotlib.lines.Line2D at 0x14eb627f0>]"
      ]
     },
     "execution_count": 25,
     "metadata": {},
     "output_type": "execute_result"
    },
    {
     "data": {
      "image/png": "[encoded data removed]",
      "text/plain": [
       "<Figure size 432x288 with 1 Axes>"
      ]
     },
     "metadata": {
      "needs_background": "light"
     },
     "output_type": "display_data"
    }
   ],
   "source": [
    "plt.scatter(y_test, y_test, color=\"red\")\n",
    "plt.plot(x_test, y_pred, color=\"blue\", linewidth=2)"
   ]
  },
  {
   "cell_type": "code",
   "execution_count": 26,
   "id": "2ba670ec",
   "metadata": {},
   "outputs": [
    {
     "ename": "NameError",
     "evalue": "name 'y_pre' is not defined",
     "output_type": "error",
     "traceback": [
      "\u001b[0;31m---------------------------------------------------------------------------\u001b[0m",
      "\u001b[0;31mNameError\u001b[0m                                 Traceback (most recent call last)",
      "Input \u001b[0;32mIn [26]\u001b[0m, in \u001b[0;36m<cell line: 2>\u001b[0;34m()\u001b[0m\n\u001b[1;32m      1\u001b[0m plt\u001b[38;5;241m.\u001b[39mscatter(x_test[:,\u001b[38;5;241m0\u001b[39m:\u001b[38;5;241m1\u001b[39m],y_test)\n\u001b[0;32m----> 2\u001b[0m plt\u001b[38;5;241m.\u001b[39mplot(x_test[:,\u001b[38;5;241m0\u001b[39m:\u001b[38;5;241m1\u001b[39m], \u001b[43my_pre\u001b[49m, color\u001b[38;5;241m=\u001b[39m\u001b[38;5;124m\"\u001b[39m\u001b[38;5;124mblue\u001b[39m\u001b[38;5;124m\"\u001b[39m, linewidth\u001b[38;5;241m=\u001b[39m\u001b[38;5;241m3\u001b[39m)\n",
      "\u001b[0;31mNameError\u001b[0m: name 'y_pre' is not defined"
     ]
    },
    {
     "data": {
      "image/png": "[encoded data removed]",
      "text/plain": [
       "<Figure size 432x288 with 1 Axes>"
      ]
     },
     "metadata": {
      "needs_background": "light"
     },
     "output_type": "display_data"
    }
   ],
   "source": [
    "plt.scatter(x_test[:,0:1],y_test)\n",
    "plt.plot(x_test[:,0:1], y_pre, color=\"blue\", linewidth=3)"
   ]
  },
  {
   "cell_type": "code",
   "execution_count": null,
   "id": "b2c2b25c",
   "metadata": {},
   "outputs": [],
   "source": [
    "# import matplotlib.pyplot as plt\n",
    "\n",
    "# plt.style.use('default')\n",
    "# plt.style.use('ggplot')\n",
    "\n",
    "# fig, ax = plt.subplots(figsize=(7, 3.5))\n",
    "\n",
    "# ax.plot(x_pred, y_pred, color='k', label='Regression model')\n",
    "# ax.scatter(X, y, edgecolor='k', facecolor='grey', alpha=0.7, label='Sample data')\n",
    "# ax.set_ylabel('Gas production (Mcf/day)', fontsize=14)\n",
    "# ax.set_xlabel('Porosity (%)', fontsize=14)\n",
    "# ax.legend(facecolor='white', fontsize=11)\n",
    "# ax.text(0.55, 0.15, '$y = %.2f x_1 - %.2f $' % (model.coef_[0], abs(model.intercept_)), fontsize=17, transform=ax.transAxes)\n",
    "\n",
    "# fig.tight_layout()"
   ]
  },
  {
   "cell_type": "code",
   "execution_count": 29,
   "id": "172a79bd",
   "metadata": {},
   "outputs": [
    {
     "name": "stdout",
     "output_type": "stream",
     "text": [
      "Boston_multi_reg.ipynb                boston.xls\r\n",
      "boston.ipynb                          regression_boston(dynamic_code).ipynb\r\n"
     ]
    }
   ],
   "source": [
    "!ls"
   ]
  },
  {
   "cell_type": "code",
   "execution_count": null,
   "id": "558d2a85",
   "metadata": {},
   "outputs": [],
   "source": []
  }
 ],
 "metadata": {
  "kernelspec": {
   "display_name": "Python 3 (ipykernel)",
   "language": "python",
   "name": "python3"
  },
  "language_info": {
   "codemirror_mode": {
    "name": "ipython",
    "version": 3
   },
   "file_extension": ".py",
   "mimetype": "text/x-python",
   "name": "python",
   "nbconvert_exporter": "python",
   "pygments_lexer": "ipython3",
   "version": "3.9.12"
  }
 },
 "nbformat": 4,
 "nbformat_minor": 5
}
